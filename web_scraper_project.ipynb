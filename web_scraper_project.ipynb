{
 "cells": [
  {
   "cell_type": "code",
   "execution_count": 2,
   "id": "ed5cc99e-5d2a-42f2-ba67-0a2fb773f430",
   "metadata": {},
   "outputs": [],
   "source": [
    "# import libraries\n",
    "from selenium.webdriver import Chrome, ChromeOptions\n",
    "from selenium.webdriver.common.by import By\n"
   ]
  },
  {
   "cell_type": "code",
   "execution_count": 6,
   "id": "1d7be51c",
   "metadata": {},
   "outputs": [],
   "source": [
    "url = \"https://books.toscrape.com/\"\n"
   ]
  },
  {
   "cell_type": "code",
   "execution_count": 11,
   "id": "1b3530e9",
   "metadata": {},
   "outputs": [],
   "source": [
    "browser_options = ChromeOptions()\n",
    "browser_options.headless = True\n",
    "driver = Chrome(options=browser_options)\n",
    "driver.get(url)\n",
    "# element = driver.find_element(By.LINK_TEXT,\"Humor\")\n",
    "# element.click\n",
    "\n",
    "books = driver.find_elements(By.CSS_SELECTOR,\".product_pod\")\n"
   ]
  },
  {
   "cell_type": "code",
   "execution_count": 12,
   "id": "4ccc52bf",
   "metadata": {},
   "outputs": [
    {
     "data": {
      "text/plain": [
       "[<selenium.webdriver.remote.webelement.WebElement (session=\"658c99dba564eab9ce6bab9c55d62e63\", element=\"A038545416AD88C849A8A9B4C2EB3C83_element_31\")>,\n",
       " <selenium.webdriver.remote.webelement.WebElement (session=\"658c99dba564eab9ce6bab9c55d62e63\", element=\"A038545416AD88C849A8A9B4C2EB3C83_element_32\")>,\n",
       " <selenium.webdriver.remote.webelement.WebElement (session=\"658c99dba564eab9ce6bab9c55d62e63\", element=\"A038545416AD88C849A8A9B4C2EB3C83_element_33\")>,\n",
       " <selenium.webdriver.remote.webelement.WebElement (session=\"658c99dba564eab9ce6bab9c55d62e63\", element=\"A038545416AD88C849A8A9B4C2EB3C83_element_34\")>,\n",
       " <selenium.webdriver.remote.webelement.WebElement (session=\"658c99dba564eab9ce6bab9c55d62e63\", element=\"A038545416AD88C849A8A9B4C2EB3C83_element_35\")>,\n",
       " <selenium.webdriver.remote.webelement.WebElement (session=\"658c99dba564eab9ce6bab9c55d62e63\", element=\"A038545416AD88C849A8A9B4C2EB3C83_element_36\")>,\n",
       " <selenium.webdriver.remote.webelement.WebElement (session=\"658c99dba564eab9ce6bab9c55d62e63\", element=\"A038545416AD88C849A8A9B4C2EB3C83_element_37\")>,\n",
       " <selenium.webdriver.remote.webelement.WebElement (session=\"658c99dba564eab9ce6bab9c55d62e63\", element=\"A038545416AD88C849A8A9B4C2EB3C83_element_38\")>,\n",
       " <selenium.webdriver.remote.webelement.WebElement (session=\"658c99dba564eab9ce6bab9c55d62e63\", element=\"A038545416AD88C849A8A9B4C2EB3C83_element_39\")>,\n",
       " <selenium.webdriver.remote.webelement.WebElement (session=\"658c99dba564eab9ce6bab9c55d62e63\", element=\"A038545416AD88C849A8A9B4C2EB3C83_element_40\")>,\n",
       " <selenium.webdriver.remote.webelement.WebElement (session=\"658c99dba564eab9ce6bab9c55d62e63\", element=\"A038545416AD88C849A8A9B4C2EB3C83_element_41\")>,\n",
       " <selenium.webdriver.remote.webelement.WebElement (session=\"658c99dba564eab9ce6bab9c55d62e63\", element=\"A038545416AD88C849A8A9B4C2EB3C83_element_42\")>,\n",
       " <selenium.webdriver.remote.webelement.WebElement (session=\"658c99dba564eab9ce6bab9c55d62e63\", element=\"A038545416AD88C849A8A9B4C2EB3C83_element_43\")>,\n",
       " <selenium.webdriver.remote.webelement.WebElement (session=\"658c99dba564eab9ce6bab9c55d62e63\", element=\"A038545416AD88C849A8A9B4C2EB3C83_element_44\")>,\n",
       " <selenium.webdriver.remote.webelement.WebElement (session=\"658c99dba564eab9ce6bab9c55d62e63\", element=\"A038545416AD88C849A8A9B4C2EB3C83_element_45\")>,\n",
       " <selenium.webdriver.remote.webelement.WebElement (session=\"658c99dba564eab9ce6bab9c55d62e63\", element=\"A038545416AD88C849A8A9B4C2EB3C83_element_46\")>,\n",
       " <selenium.webdriver.remote.webelement.WebElement (session=\"658c99dba564eab9ce6bab9c55d62e63\", element=\"A038545416AD88C849A8A9B4C2EB3C83_element_47\")>,\n",
       " <selenium.webdriver.remote.webelement.WebElement (session=\"658c99dba564eab9ce6bab9c55d62e63\", element=\"A038545416AD88C849A8A9B4C2EB3C83_element_48\")>,\n",
       " <selenium.webdriver.remote.webelement.WebElement (session=\"658c99dba564eab9ce6bab9c55d62e63\", element=\"A038545416AD88C849A8A9B4C2EB3C83_element_49\")>,\n",
       " <selenium.webdriver.remote.webelement.WebElement (session=\"658c99dba564eab9ce6bab9c55d62e63\", element=\"A038545416AD88C849A8A9B4C2EB3C83_element_50\")>]"
      ]
     },
     "execution_count": 12,
     "metadata": {},
     "output_type": "execute_result"
    }
   ],
   "source": [
    "books\n"
   ]
  },
  {
   "cell_type": "code",
   "execution_count": 16,
   "id": "b28cfc78",
   "metadata": {},
   "outputs": [
    {
     "data": {
      "text/plain": [
       "'A Light in the ...'"
      ]
     },
     "execution_count": 16,
     "metadata": {},
     "output_type": "execute_result"
    }
   ],
   "source": [
    "title_1 = books[0].find_element(By.CSS_SELECTOR,\"h3 > a\")\n",
    "title_1.get_attribute(\"title\")\n",
    "# title_1.text\n"
   ]
  },
  {
   "cell_type": "code",
   "execution_count": 15,
   "id": "8109eda9",
   "metadata": {},
   "outputs": [
    {
     "data": {
      "text/plain": [
       "'£51.77'"
      ]
     },
     "execution_count": 15,
     "metadata": {},
     "output_type": "execute_result"
    }
   ],
   "source": [
    "price_1 = books[0].find_element(By.CSS_SELECTOR,\".price_color\")\n",
    "price_1.text\n"
   ]
  },
  {
   "cell_type": "code",
   "execution_count": 17,
   "id": "b02b47b1",
   "metadata": {},
   "outputs": [
    {
     "data": {
      "text/plain": [
       "'In stock'"
      ]
     },
     "execution_count": 17,
     "metadata": {},
     "output_type": "execute_result"
    }
   ],
   "source": [
    "stock_1 = books[0].find_element(By.CSS_SELECTOR,\".instock.availability\")\n",
    "stock_1.text\n"
   ]
  },
  {
   "cell_type": "code",
   "execution_count": 18,
   "id": "ecee3448",
   "metadata": {},
   "outputs": [],
   "source": [
    "data = []\n",
    "for book in books:\n",
    "    title = book.find_element(By.CSS_SELECTOR,\"h3 > a\")\n",
    "    price = book.find_element(By.CSS_SELECTOR,\".price_color\")\n",
    "    stock = book.find_element(By.CSS_SELECTOR,\".instock.availability\")\n",
    "\n",
    "    book_item ={\n",
    "        'title':title.get_attribute('title'),\n",
    "        'price':price.text,\n",
    "        'stock':stock.text\n",
    "    }\n",
    "    data.append(book_item)\n"
   ]
  },
  {
   "cell_type": "code",
   "execution_count": 19,
   "id": "4104c9f9",
   "metadata": {},
   "outputs": [
    {
     "data": {
      "text/plain": [
       "[{'title': 'A Light in the Attic', 'price': '£51.77', 'stock': 'In stock'},\n",
       " {'title': 'Tipping the Velvet', 'price': '£53.74', 'stock': 'In stock'},\n",
       " {'title': 'Soumission', 'price': '£50.10', 'stock': 'In stock'},\n",
       " {'title': 'Sharp Objects', 'price': '£47.82', 'stock': 'In stock'},\n",
       " {'title': 'Sapiens: A Brief History of Humankind',\n",
       "  'price': '£54.23',\n",
       "  'stock': 'In stock'},\n",
       " {'title': 'The Requiem Red', 'price': '£22.65', 'stock': 'In stock'},\n",
       " {'title': 'The Dirty Little Secrets of Getting Your Dream Job',\n",
       "  'price': '£33.34',\n",
       "  'stock': 'In stock'},\n",
       " {'title': 'The Coming Woman: A Novel Based on the Life of the Infamous Feminist, Victoria Woodhull',\n",
       "  'price': '£17.93',\n",
       "  'stock': 'In stock'},\n",
       " {'title': 'The Boys in the Boat: Nine Americans and Their Epic Quest for Gold at the 1936 Berlin Olympics',\n",
       "  'price': '£22.60',\n",
       "  'stock': 'In stock'},\n",
       " {'title': 'The Black Maria', 'price': '£52.15', 'stock': 'In stock'},\n",
       " {'title': 'Starving Hearts (Triangular Trade Trilogy, #1)',\n",
       "  'price': '£13.99',\n",
       "  'stock': 'In stock'},\n",
       " {'title': \"Shakespeare's Sonnets\", 'price': '£20.66', 'stock': 'In stock'},\n",
       " {'title': 'Set Me Free', 'price': '£17.46', 'stock': 'In stock'},\n",
       " {'title': \"Scott Pilgrim's Precious Little Life (Scott Pilgrim #1)\",\n",
       "  'price': '£52.29',\n",
       "  'stock': 'In stock'},\n",
       " {'title': 'Rip it Up and Start Again',\n",
       "  'price': '£35.02',\n",
       "  'stock': 'In stock'},\n",
       " {'title': 'Our Band Could Be Your Life: Scenes from the American Indie Underground, 1981-1991',\n",
       "  'price': '£57.25',\n",
       "  'stock': 'In stock'},\n",
       " {'title': 'Olio', 'price': '£23.88', 'stock': 'In stock'},\n",
       " {'title': 'Mesaerion: The Best Science Fiction Stories 1800-1849',\n",
       "  'price': '£37.59',\n",
       "  'stock': 'In stock'},\n",
       " {'title': 'Libertarianism for Beginners',\n",
       "  'price': '£51.33',\n",
       "  'stock': 'In stock'},\n",
       " {'title': \"It's Only the Himalayas\", 'price': '£45.17', 'stock': 'In stock'}]"
      ]
     },
     "execution_count": 19,
     "metadata": {},
     "output_type": "execute_result"
    }
   ],
   "source": [
    "data\n"
   ]
  },
  {
   "cell_type": "code",
   "execution_count": 20,
   "id": "b021b9c4",
   "metadata": {},
   "outputs": [
    {
     "data": {
      "text/plain": [
       "<bound method WebElement.click of <selenium.webdriver.remote.webelement.WebElement (session=\"c7708fbd174a6e69d41b351a8ac239bf\", element=\"CF7BDE3564B7D6E25DA23655FA0523B8_element_31\")>>"
      ]
     },
     "execution_count": 20,
     "metadata": {},
     "output_type": "execute_result"
    }
   ],
   "source": [
    "browser_options = ChromeOptions()\n",
    "browser_options.headless = True\n",
    "driver = Chrome(options=browser_options)\n",
    "driver.get(url)\n",
    "\n",
    "element = driver.find_element(By.LINK_TEXT,\"Humor\")\n",
    "element.click\n"
   ]
  },
  {
   "cell_type": "code",
   "execution_count": 21,
   "id": "3e911675",
   "metadata": {},
   "outputs": [],
   "source": [
    "humor_books = driver.find_elements(By.CSS_SELECTOR,\".product_pod\")\n"
   ]
  },
  {
   "cell_type": "code",
   "execution_count": 22,
   "id": "e24e5769",
   "metadata": {},
   "outputs": [
    {
     "data": {
      "text/plain": [
       "[<selenium.webdriver.remote.webelement.WebElement (session=\"c7708fbd174a6e69d41b351a8ac239bf\", element=\"CF7BDE3564B7D6E25DA23655FA0523B8_element_32\")>,\n",
       " <selenium.webdriver.remote.webelement.WebElement (session=\"c7708fbd174a6e69d41b351a8ac239bf\", element=\"CF7BDE3564B7D6E25DA23655FA0523B8_element_33\")>,\n",
       " <selenium.webdriver.remote.webelement.WebElement (session=\"c7708fbd174a6e69d41b351a8ac239bf\", element=\"CF7BDE3564B7D6E25DA23655FA0523B8_element_34\")>,\n",
       " <selenium.webdriver.remote.webelement.WebElement (session=\"c7708fbd174a6e69d41b351a8ac239bf\", element=\"CF7BDE3564B7D6E25DA23655FA0523B8_element_35\")>,\n",
       " <selenium.webdriver.remote.webelement.WebElement (session=\"c7708fbd174a6e69d41b351a8ac239bf\", element=\"CF7BDE3564B7D6E25DA23655FA0523B8_element_36\")>,\n",
       " <selenium.webdriver.remote.webelement.WebElement (session=\"c7708fbd174a6e69d41b351a8ac239bf\", element=\"CF7BDE3564B7D6E25DA23655FA0523B8_element_37\")>,\n",
       " <selenium.webdriver.remote.webelement.WebElement (session=\"c7708fbd174a6e69d41b351a8ac239bf\", element=\"CF7BDE3564B7D6E25DA23655FA0523B8_element_38\")>,\n",
       " <selenium.webdriver.remote.webelement.WebElement (session=\"c7708fbd174a6e69d41b351a8ac239bf\", element=\"CF7BDE3564B7D6E25DA23655FA0523B8_element_39\")>,\n",
       " <selenium.webdriver.remote.webelement.WebElement (session=\"c7708fbd174a6e69d41b351a8ac239bf\", element=\"CF7BDE3564B7D6E25DA23655FA0523B8_element_40\")>,\n",
       " <selenium.webdriver.remote.webelement.WebElement (session=\"c7708fbd174a6e69d41b351a8ac239bf\", element=\"CF7BDE3564B7D6E25DA23655FA0523B8_element_41\")>,\n",
       " <selenium.webdriver.remote.webelement.WebElement (session=\"c7708fbd174a6e69d41b351a8ac239bf\", element=\"CF7BDE3564B7D6E25DA23655FA0523B8_element_42\")>,\n",
       " <selenium.webdriver.remote.webelement.WebElement (session=\"c7708fbd174a6e69d41b351a8ac239bf\", element=\"CF7BDE3564B7D6E25DA23655FA0523B8_element_43\")>,\n",
       " <selenium.webdriver.remote.webelement.WebElement (session=\"c7708fbd174a6e69d41b351a8ac239bf\", element=\"CF7BDE3564B7D6E25DA23655FA0523B8_element_44\")>,\n",
       " <selenium.webdriver.remote.webelement.WebElement (session=\"c7708fbd174a6e69d41b351a8ac239bf\", element=\"CF7BDE3564B7D6E25DA23655FA0523B8_element_45\")>,\n",
       " <selenium.webdriver.remote.webelement.WebElement (session=\"c7708fbd174a6e69d41b351a8ac239bf\", element=\"CF7BDE3564B7D6E25DA23655FA0523B8_element_46\")>,\n",
       " <selenium.webdriver.remote.webelement.WebElement (session=\"c7708fbd174a6e69d41b351a8ac239bf\", element=\"CF7BDE3564B7D6E25DA23655FA0523B8_element_47\")>,\n",
       " <selenium.webdriver.remote.webelement.WebElement (session=\"c7708fbd174a6e69d41b351a8ac239bf\", element=\"CF7BDE3564B7D6E25DA23655FA0523B8_element_48\")>,\n",
       " <selenium.webdriver.remote.webelement.WebElement (session=\"c7708fbd174a6e69d41b351a8ac239bf\", element=\"CF7BDE3564B7D6E25DA23655FA0523B8_element_49\")>,\n",
       " <selenium.webdriver.remote.webelement.WebElement (session=\"c7708fbd174a6e69d41b351a8ac239bf\", element=\"CF7BDE3564B7D6E25DA23655FA0523B8_element_50\")>,\n",
       " <selenium.webdriver.remote.webelement.WebElement (session=\"c7708fbd174a6e69d41b351a8ac239bf\", element=\"CF7BDE3564B7D6E25DA23655FA0523B8_element_51\")>]"
      ]
     },
     "execution_count": 22,
     "metadata": {},
     "output_type": "execute_result"
    }
   ],
   "source": [
    "humor_books\n"
   ]
  },
  {
   "cell_type": "code",
   "execution_count": null,
   "id": "615790fb",
   "metadata": {},
   "outputs": [],
   "source": []
  }
 ],
 "metadata": {
  "kernelspec": {
   "display_name": "Python 3 (ipykernel)",
   "language": "python",
   "name": "python3"
  },
  "language_info": {
   "codemirror_mode": {
    "name": "ipython",
    "version": 3
   },
   "file_extension": ".py",
   "mimetype": "text/x-python",
   "name": "python",
   "nbconvert_exporter": "python",
   "pygments_lexer": "ipython3",
   "version": "3.10.6"
  }
 },
 "nbformat": 4,
 "nbformat_minor": 5
}
