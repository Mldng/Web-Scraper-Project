{
 "cells": [
  {
   "cell_type": "code",
   "execution_count": 2,
   "id": "ed5cc99e-5d2a-42f2-ba67-0a2fb773f430",
   "metadata": {},
   "outputs": [],
   "source": [
    "# import libraries\n",
    "from selenium.webdriver import Chrome, ChromeOptions\n",
    "from selenium.webdriver.common.by import By\n"
   ]
  },
  {
   "cell_type": "code",
   "execution_count": 6,
   "id": "1d7be51c",
   "metadata": {},
   "outputs": [],
   "source": [
    "url = \"https://books.toscrape.com/\"\n"
   ]
  },
  {
   "cell_type": "code",
   "execution_count": 8,
   "id": "1b3530e9",
   "metadata": {},
   "outputs": [],
   "source": [
    "browser_options = ChromeOptions()\n",
    "browser_options.headless = True\n",
    "driver = Chrome(options=browser_options)\n",
    "driver.get(url)\n",
    "element = driver.find_element(By.LINK_TEXT,\"Humor\")\n",
    "element.click\n",
    "\n",
    "books = driver.find_elements(By.CSS_SELECTOR,\"product_pod\")\n"
   ]
  },
  {
   "cell_type": "code",
   "execution_count": 5,
   "id": "4ccc52bf",
   "metadata": {},
   "outputs": [
    {
     "data": {
      "text/plain": [
       "[]"
      ]
     },
     "execution_count": 5,
     "metadata": {},
     "output_type": "execute_result"
    }
   ],
   "source": [
    "books\n"
   ]
  },
  {
   "cell_type": "code",
   "execution_count": null,
   "id": "ecee3448",
   "metadata": {},
   "outputs": [],
   "source": []
  },
  {
   "cell_type": "code",
   "execution_count": null,
   "id": "4104c9f9",
   "metadata": {},
   "outputs": [],
   "source": []
  }
 ],
 "metadata": {
  "kernelspec": {
   "display_name": "Python 3 (ipykernel)",
   "language": "python",
   "name": "python3"
  },
  "language_info": {
   "codemirror_mode": {
    "name": "ipython",
    "version": 3
   },
   "file_extension": ".py",
   "mimetype": "text/x-python",
   "name": "python",
   "nbconvert_exporter": "python",
   "pygments_lexer": "ipython3",
   "version": "3.10.6"
  }
 },
 "nbformat": 4,
 "nbformat_minor": 5
}
